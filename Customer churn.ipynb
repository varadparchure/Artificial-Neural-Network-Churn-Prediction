{
 "cells": [
  {
   "cell_type": "code",
   "execution_count": 1,
   "id": "d986cdc3",
   "metadata": {},
   "outputs": [],
   "source": [
    "import pandas as pd\n",
    "import numpy as np\n",
    "from matplotlib import pyplot as plt\n",
    "%matplotlib inline\n",
    "\n"
   ]
  },
  {
   "cell_type": "code",
   "execution_count": 9,
   "id": "af842371",
   "metadata": {},
   "outputs": [
    {
     "data": {
      "text/html": [
       "<div>\n",
       "<style scoped>\n",
       "    .dataframe tbody tr th:only-of-type {\n",
       "        vertical-align: middle;\n",
       "    }\n",
       "\n",
       "    .dataframe tbody tr th {\n",
       "        vertical-align: top;\n",
       "    }\n",
       "\n",
       "    .dataframe thead th {\n",
       "        text-align: right;\n",
       "    }\n",
       "</style>\n",
       "<table border=\"1\" class=\"dataframe\">\n",
       "  <thead>\n",
       "    <tr style=\"text-align: right;\">\n",
       "      <th></th>\n",
       "      <th>customerID</th>\n",
       "      <th>gender</th>\n",
       "      <th>SeniorCitizen</th>\n",
       "      <th>Partner</th>\n",
       "      <th>Dependents</th>\n",
       "      <th>tenure</th>\n",
       "      <th>PhoneService</th>\n",
       "      <th>MultipleLines</th>\n",
       "      <th>InternetService</th>\n",
       "      <th>OnlineSecurity</th>\n",
       "      <th>...</th>\n",
       "      <th>DeviceProtection</th>\n",
       "      <th>TechSupport</th>\n",
       "      <th>StreamingTV</th>\n",
       "      <th>StreamingMovies</th>\n",
       "      <th>Contract</th>\n",
       "      <th>PaperlessBilling</th>\n",
       "      <th>PaymentMethod</th>\n",
       "      <th>MonthlyCharges</th>\n",
       "      <th>TotalCharges</th>\n",
       "      <th>Churn</th>\n",
       "    </tr>\n",
       "  </thead>\n",
       "  <tbody>\n",
       "    <tr>\n",
       "      <th>0</th>\n",
       "      <td>7590-VHVEG</td>\n",
       "      <td>Female</td>\n",
       "      <td>0</td>\n",
       "      <td>Yes</td>\n",
       "      <td>No</td>\n",
       "      <td>1</td>\n",
       "      <td>No</td>\n",
       "      <td>No phone service</td>\n",
       "      <td>DSL</td>\n",
       "      <td>No</td>\n",
       "      <td>...</td>\n",
       "      <td>No</td>\n",
       "      <td>No</td>\n",
       "      <td>No</td>\n",
       "      <td>No</td>\n",
       "      <td>Month-to-month</td>\n",
       "      <td>Yes</td>\n",
       "      <td>Electronic check</td>\n",
       "      <td>29.85</td>\n",
       "      <td>29.85</td>\n",
       "      <td>No</td>\n",
       "    </tr>\n",
       "    <tr>\n",
       "      <th>1</th>\n",
       "      <td>5575-GNVDE</td>\n",
       "      <td>Male</td>\n",
       "      <td>0</td>\n",
       "      <td>No</td>\n",
       "      <td>No</td>\n",
       "      <td>34</td>\n",
       "      <td>Yes</td>\n",
       "      <td>No</td>\n",
       "      <td>DSL</td>\n",
       "      <td>Yes</td>\n",
       "      <td>...</td>\n",
       "      <td>Yes</td>\n",
       "      <td>No</td>\n",
       "      <td>No</td>\n",
       "      <td>No</td>\n",
       "      <td>One year</td>\n",
       "      <td>No</td>\n",
       "      <td>Mailed check</td>\n",
       "      <td>56.95</td>\n",
       "      <td>1889.5</td>\n",
       "      <td>No</td>\n",
       "    </tr>\n",
       "    <tr>\n",
       "      <th>2</th>\n",
       "      <td>3668-QPYBK</td>\n",
       "      <td>Male</td>\n",
       "      <td>0</td>\n",
       "      <td>No</td>\n",
       "      <td>No</td>\n",
       "      <td>2</td>\n",
       "      <td>Yes</td>\n",
       "      <td>No</td>\n",
       "      <td>DSL</td>\n",
       "      <td>Yes</td>\n",
       "      <td>...</td>\n",
       "      <td>No</td>\n",
       "      <td>No</td>\n",
       "      <td>No</td>\n",
       "      <td>No</td>\n",
       "      <td>Month-to-month</td>\n",
       "      <td>Yes</td>\n",
       "      <td>Mailed check</td>\n",
       "      <td>53.85</td>\n",
       "      <td>108.15</td>\n",
       "      <td>Yes</td>\n",
       "    </tr>\n",
       "    <tr>\n",
       "      <th>3</th>\n",
       "      <td>7795-CFOCW</td>\n",
       "      <td>Male</td>\n",
       "      <td>0</td>\n",
       "      <td>No</td>\n",
       "      <td>No</td>\n",
       "      <td>45</td>\n",
       "      <td>No</td>\n",
       "      <td>No phone service</td>\n",
       "      <td>DSL</td>\n",
       "      <td>Yes</td>\n",
       "      <td>...</td>\n",
       "      <td>Yes</td>\n",
       "      <td>Yes</td>\n",
       "      <td>No</td>\n",
       "      <td>No</td>\n",
       "      <td>One year</td>\n",
       "      <td>No</td>\n",
       "      <td>Bank transfer (automatic)</td>\n",
       "      <td>42.30</td>\n",
       "      <td>1840.75</td>\n",
       "      <td>No</td>\n",
       "    </tr>\n",
       "    <tr>\n",
       "      <th>4</th>\n",
       "      <td>9237-HQITU</td>\n",
       "      <td>Female</td>\n",
       "      <td>0</td>\n",
       "      <td>No</td>\n",
       "      <td>No</td>\n",
       "      <td>2</td>\n",
       "      <td>Yes</td>\n",
       "      <td>No</td>\n",
       "      <td>Fiber optic</td>\n",
       "      <td>No</td>\n",
       "      <td>...</td>\n",
       "      <td>No</td>\n",
       "      <td>No</td>\n",
       "      <td>No</td>\n",
       "      <td>No</td>\n",
       "      <td>Month-to-month</td>\n",
       "      <td>Yes</td>\n",
       "      <td>Electronic check</td>\n",
       "      <td>70.70</td>\n",
       "      <td>151.65</td>\n",
       "      <td>Yes</td>\n",
       "    </tr>\n",
       "  </tbody>\n",
       "</table>\n",
       "<p>5 rows × 21 columns</p>\n",
       "</div>"
      ],
      "text/plain": [
       "   customerID  gender  SeniorCitizen Partner Dependents  tenure PhoneService  \\\n",
       "0  7590-VHVEG  Female              0     Yes         No       1           No   \n",
       "1  5575-GNVDE    Male              0      No         No      34          Yes   \n",
       "2  3668-QPYBK    Male              0      No         No       2          Yes   \n",
       "3  7795-CFOCW    Male              0      No         No      45           No   \n",
       "4  9237-HQITU  Female              0      No         No       2          Yes   \n",
       "\n",
       "      MultipleLines InternetService OnlineSecurity  ... DeviceProtection  \\\n",
       "0  No phone service             DSL             No  ...               No   \n",
       "1                No             DSL            Yes  ...              Yes   \n",
       "2                No             DSL            Yes  ...               No   \n",
       "3  No phone service             DSL            Yes  ...              Yes   \n",
       "4                No     Fiber optic             No  ...               No   \n",
       "\n",
       "  TechSupport StreamingTV StreamingMovies        Contract PaperlessBilling  \\\n",
       "0          No          No              No  Month-to-month              Yes   \n",
       "1          No          No              No        One year               No   \n",
       "2          No          No              No  Month-to-month              Yes   \n",
       "3         Yes          No              No        One year               No   \n",
       "4          No          No              No  Month-to-month              Yes   \n",
       "\n",
       "               PaymentMethod MonthlyCharges  TotalCharges Churn  \n",
       "0           Electronic check          29.85         29.85    No  \n",
       "1               Mailed check          56.95        1889.5    No  \n",
       "2               Mailed check          53.85        108.15   Yes  \n",
       "3  Bank transfer (automatic)          42.30       1840.75    No  \n",
       "4           Electronic check          70.70        151.65   Yes  \n",
       "\n",
       "[5 rows x 21 columns]"
      ]
     },
     "execution_count": 9,
     "metadata": {},
     "output_type": "execute_result"
    }
   ],
   "source": [
    "df= pd.read_csv(\"churndata.csv\")\n",
    "df.head()"
   ]
  },
  {
   "cell_type": "markdown",
   "id": "a9726c80",
   "metadata": {},
   "source": [
    "### Data Exploration"
   ]
  },
  {
   "cell_type": "code",
   "execution_count": 10,
   "id": "30690a77",
   "metadata": {},
   "outputs": [
    {
     "data": {
      "text/html": [
       "<div>\n",
       "<style scoped>\n",
       "    .dataframe tbody tr th:only-of-type {\n",
       "        vertical-align: middle;\n",
       "    }\n",
       "\n",
       "    .dataframe tbody tr th {\n",
       "        vertical-align: top;\n",
       "    }\n",
       "\n",
       "    .dataframe thead th {\n",
       "        text-align: right;\n",
       "    }\n",
       "</style>\n",
       "<table border=\"1\" class=\"dataframe\">\n",
       "  <thead>\n",
       "    <tr style=\"text-align: right;\">\n",
       "      <th></th>\n",
       "      <th>gender</th>\n",
       "      <th>SeniorCitizen</th>\n",
       "      <th>Partner</th>\n",
       "      <th>Dependents</th>\n",
       "      <th>tenure</th>\n",
       "      <th>PhoneService</th>\n",
       "      <th>MultipleLines</th>\n",
       "      <th>InternetService</th>\n",
       "      <th>OnlineSecurity</th>\n",
       "      <th>OnlineBackup</th>\n",
       "      <th>DeviceProtection</th>\n",
       "      <th>TechSupport</th>\n",
       "      <th>StreamingTV</th>\n",
       "      <th>StreamingMovies</th>\n",
       "      <th>Contract</th>\n",
       "      <th>PaperlessBilling</th>\n",
       "      <th>PaymentMethod</th>\n",
       "      <th>MonthlyCharges</th>\n",
       "      <th>TotalCharges</th>\n",
       "      <th>Churn</th>\n",
       "    </tr>\n",
       "  </thead>\n",
       "  <tbody>\n",
       "    <tr>\n",
       "      <th>0</th>\n",
       "      <td>Female</td>\n",
       "      <td>0</td>\n",
       "      <td>Yes</td>\n",
       "      <td>No</td>\n",
       "      <td>1</td>\n",
       "      <td>No</td>\n",
       "      <td>No phone service</td>\n",
       "      <td>DSL</td>\n",
       "      <td>No</td>\n",
       "      <td>Yes</td>\n",
       "      <td>No</td>\n",
       "      <td>No</td>\n",
       "      <td>No</td>\n",
       "      <td>No</td>\n",
       "      <td>Month-to-month</td>\n",
       "      <td>Yes</td>\n",
       "      <td>Electronic check</td>\n",
       "      <td>29.85</td>\n",
       "      <td>29.85</td>\n",
       "      <td>No</td>\n",
       "    </tr>\n",
       "    <tr>\n",
       "      <th>1</th>\n",
       "      <td>Male</td>\n",
       "      <td>0</td>\n",
       "      <td>No</td>\n",
       "      <td>No</td>\n",
       "      <td>34</td>\n",
       "      <td>Yes</td>\n",
       "      <td>No</td>\n",
       "      <td>DSL</td>\n",
       "      <td>Yes</td>\n",
       "      <td>No</td>\n",
       "      <td>Yes</td>\n",
       "      <td>No</td>\n",
       "      <td>No</td>\n",
       "      <td>No</td>\n",
       "      <td>One year</td>\n",
       "      <td>No</td>\n",
       "      <td>Mailed check</td>\n",
       "      <td>56.95</td>\n",
       "      <td>1889.5</td>\n",
       "      <td>No</td>\n",
       "    </tr>\n",
       "    <tr>\n",
       "      <th>2</th>\n",
       "      <td>Male</td>\n",
       "      <td>0</td>\n",
       "      <td>No</td>\n",
       "      <td>No</td>\n",
       "      <td>2</td>\n",
       "      <td>Yes</td>\n",
       "      <td>No</td>\n",
       "      <td>DSL</td>\n",
       "      <td>Yes</td>\n",
       "      <td>Yes</td>\n",
       "      <td>No</td>\n",
       "      <td>No</td>\n",
       "      <td>No</td>\n",
       "      <td>No</td>\n",
       "      <td>Month-to-month</td>\n",
       "      <td>Yes</td>\n",
       "      <td>Mailed check</td>\n",
       "      <td>53.85</td>\n",
       "      <td>108.15</td>\n",
       "      <td>Yes</td>\n",
       "    </tr>\n",
       "    <tr>\n",
       "      <th>3</th>\n",
       "      <td>Male</td>\n",
       "      <td>0</td>\n",
       "      <td>No</td>\n",
       "      <td>No</td>\n",
       "      <td>45</td>\n",
       "      <td>No</td>\n",
       "      <td>No phone service</td>\n",
       "      <td>DSL</td>\n",
       "      <td>Yes</td>\n",
       "      <td>No</td>\n",
       "      <td>Yes</td>\n",
       "      <td>Yes</td>\n",
       "      <td>No</td>\n",
       "      <td>No</td>\n",
       "      <td>One year</td>\n",
       "      <td>No</td>\n",
       "      <td>Bank transfer (automatic)</td>\n",
       "      <td>42.30</td>\n",
       "      <td>1840.75</td>\n",
       "      <td>No</td>\n",
       "    </tr>\n",
       "    <tr>\n",
       "      <th>4</th>\n",
       "      <td>Female</td>\n",
       "      <td>0</td>\n",
       "      <td>No</td>\n",
       "      <td>No</td>\n",
       "      <td>2</td>\n",
       "      <td>Yes</td>\n",
       "      <td>No</td>\n",
       "      <td>Fiber optic</td>\n",
       "      <td>No</td>\n",
       "      <td>No</td>\n",
       "      <td>No</td>\n",
       "      <td>No</td>\n",
       "      <td>No</td>\n",
       "      <td>No</td>\n",
       "      <td>Month-to-month</td>\n",
       "      <td>Yes</td>\n",
       "      <td>Electronic check</td>\n",
       "      <td>70.70</td>\n",
       "      <td>151.65</td>\n",
       "      <td>Yes</td>\n",
       "    </tr>\n",
       "  </tbody>\n",
       "</table>\n",
       "</div>"
      ],
      "text/plain": [
       "   gender  SeniorCitizen Partner Dependents  tenure PhoneService  \\\n",
       "0  Female              0     Yes         No       1           No   \n",
       "1    Male              0      No         No      34          Yes   \n",
       "2    Male              0      No         No       2          Yes   \n",
       "3    Male              0      No         No      45           No   \n",
       "4  Female              0      No         No       2          Yes   \n",
       "\n",
       "      MultipleLines InternetService OnlineSecurity OnlineBackup  \\\n",
       "0  No phone service             DSL             No          Yes   \n",
       "1                No             DSL            Yes           No   \n",
       "2                No             DSL            Yes          Yes   \n",
       "3  No phone service             DSL            Yes           No   \n",
       "4                No     Fiber optic             No           No   \n",
       "\n",
       "  DeviceProtection TechSupport StreamingTV StreamingMovies        Contract  \\\n",
       "0               No          No          No              No  Month-to-month   \n",
       "1              Yes          No          No              No        One year   \n",
       "2               No          No          No              No  Month-to-month   \n",
       "3              Yes         Yes          No              No        One year   \n",
       "4               No          No          No              No  Month-to-month   \n",
       "\n",
       "  PaperlessBilling              PaymentMethod  MonthlyCharges TotalCharges  \\\n",
       "0              Yes           Electronic check           29.85        29.85   \n",
       "1               No               Mailed check           56.95       1889.5   \n",
       "2              Yes               Mailed check           53.85       108.15   \n",
       "3               No  Bank transfer (automatic)           42.30      1840.75   \n",
       "4              Yes           Electronic check           70.70       151.65   \n",
       "\n",
       "  Churn  \n",
       "0    No  \n",
       "1    No  \n",
       "2   Yes  \n",
       "3    No  \n",
       "4   Yes  "
      ]
     },
     "execution_count": 10,
     "metadata": {},
     "output_type": "execute_result"
    }
   ],
   "source": [
    "df.drop(\"customerID\",axis=1,inplace=True)\n",
    "df.head()\n"
   ]
  },
  {
   "cell_type": "code",
   "execution_count": 11,
   "id": "46ec6a02",
   "metadata": {},
   "outputs": [
    {
     "data": {
      "text/plain": [
       "gender               object\n",
       "SeniorCitizen         int64\n",
       "Partner              object\n",
       "Dependents           object\n",
       "tenure                int64\n",
       "PhoneService         object\n",
       "MultipleLines        object\n",
       "InternetService      object\n",
       "OnlineSecurity       object\n",
       "OnlineBackup         object\n",
       "DeviceProtection     object\n",
       "TechSupport          object\n",
       "StreamingTV          object\n",
       "StreamingMovies      object\n",
       "Contract             object\n",
       "PaperlessBilling     object\n",
       "PaymentMethod        object\n",
       "MonthlyCharges      float64\n",
       "TotalCharges         object\n",
       "Churn                object\n",
       "dtype: object"
      ]
     },
     "execution_count": 11,
     "metadata": {},
     "output_type": "execute_result"
    }
   ],
   "source": [
    "df.dtypes"
   ]
  },
  {
   "cell_type": "code",
   "execution_count": 12,
   "id": "9f9e249f",
   "metadata": {},
   "outputs": [
    {
     "data": {
      "text/plain": [
       "array(['29.85', '1889.5', '108.15', ..., '346.45', '306.6', '6844.5'],\n",
       "      dtype=object)"
      ]
     },
     "execution_count": 12,
     "metadata": {},
     "output_type": "execute_result"
    }
   ],
   "source": [
    "#change dt of total charges\n",
    "\n",
    "df.TotalCharges.values"
   ]
  },
  {
   "cell_type": "code",
   "execution_count": 13,
   "id": "3c6246c2",
   "metadata": {},
   "outputs": [
    {
     "ename": "ValueError",
     "evalue": "Unable to parse string \" \" at position 488",
     "output_type": "error",
     "traceback": [
      "\u001b[1;31m---------------------------------------------------------------------------\u001b[0m",
      "\u001b[1;31mValueError\u001b[0m                                Traceback (most recent call last)",
      "File \u001b[1;32mF:\\Anaconda\\lib\\site-packages\\pandas\\_libs\\lib.pyx:2315\u001b[0m, in \u001b[0;36mpandas._libs.lib.maybe_convert_numeric\u001b[1;34m()\u001b[0m\n",
      "\u001b[1;31mValueError\u001b[0m: Unable to parse string \" \"",
      "\nDuring handling of the above exception, another exception occurred:\n",
      "\u001b[1;31mValueError\u001b[0m                                Traceback (most recent call last)",
      "Input \u001b[1;32mIn [13]\u001b[0m, in \u001b[0;36m<cell line: 1>\u001b[1;34m()\u001b[0m\n\u001b[1;32m----> 1\u001b[0m \u001b[43mpd\u001b[49m\u001b[38;5;241;43m.\u001b[39;49m\u001b[43mto_numeric\u001b[49m\u001b[43m(\u001b[49m\u001b[43mdf\u001b[49m\u001b[38;5;241;43m.\u001b[39;49m\u001b[43mTotalCharges\u001b[49m\u001b[43m)\u001b[49m\n",
      "File \u001b[1;32mF:\\Anaconda\\lib\\site-packages\\pandas\\core\\tools\\numeric.py:184\u001b[0m, in \u001b[0;36mto_numeric\u001b[1;34m(arg, errors, downcast)\u001b[0m\n\u001b[0;32m    182\u001b[0m coerce_numeric \u001b[38;5;241m=\u001b[39m errors \u001b[38;5;129;01mnot\u001b[39;00m \u001b[38;5;129;01min\u001b[39;00m (\u001b[38;5;124m\"\u001b[39m\u001b[38;5;124mignore\u001b[39m\u001b[38;5;124m\"\u001b[39m, \u001b[38;5;124m\"\u001b[39m\u001b[38;5;124mraise\u001b[39m\u001b[38;5;124m\"\u001b[39m)\n\u001b[0;32m    183\u001b[0m \u001b[38;5;28;01mtry\u001b[39;00m:\n\u001b[1;32m--> 184\u001b[0m     values, _ \u001b[38;5;241m=\u001b[39m \u001b[43mlib\u001b[49m\u001b[38;5;241;43m.\u001b[39;49m\u001b[43mmaybe_convert_numeric\u001b[49m\u001b[43m(\u001b[49m\n\u001b[0;32m    185\u001b[0m \u001b[43m        \u001b[49m\u001b[43mvalues\u001b[49m\u001b[43m,\u001b[49m\u001b[43m \u001b[49m\u001b[38;5;28;43mset\u001b[39;49m\u001b[43m(\u001b[49m\u001b[43m)\u001b[49m\u001b[43m,\u001b[49m\u001b[43m \u001b[49m\u001b[43mcoerce_numeric\u001b[49m\u001b[38;5;241;43m=\u001b[39;49m\u001b[43mcoerce_numeric\u001b[49m\n\u001b[0;32m    186\u001b[0m \u001b[43m    \u001b[49m\u001b[43m)\u001b[49m\n\u001b[0;32m    187\u001b[0m \u001b[38;5;28;01mexcept\u001b[39;00m (\u001b[38;5;167;01mValueError\u001b[39;00m, \u001b[38;5;167;01mTypeError\u001b[39;00m):\n\u001b[0;32m    188\u001b[0m     \u001b[38;5;28;01mif\u001b[39;00m errors \u001b[38;5;241m==\u001b[39m \u001b[38;5;124m\"\u001b[39m\u001b[38;5;124mraise\u001b[39m\u001b[38;5;124m\"\u001b[39m:\n",
      "File \u001b[1;32mF:\\Anaconda\\lib\\site-packages\\pandas\\_libs\\lib.pyx:2357\u001b[0m, in \u001b[0;36mpandas._libs.lib.maybe_convert_numeric\u001b[1;34m()\u001b[0m\n",
      "\u001b[1;31mValueError\u001b[0m: Unable to parse string \" \" at position 488"
     ]
    }
   ],
   "source": [
    "pd.to_numeric(df.TotalCharges)"
   ]
  },
  {
   "cell_type": "code",
   "execution_count": 14,
   "id": "1584e6c3",
   "metadata": {},
   "outputs": [
    {
     "data": {
      "text/plain": [
       "gender                                 Female\n",
       "SeniorCitizen                               0\n",
       "Partner                                   Yes\n",
       "Dependents                                Yes\n",
       "tenure                                      0\n",
       "PhoneService                               No\n",
       "MultipleLines                No phone service\n",
       "InternetService                           DSL\n",
       "OnlineSecurity                            Yes\n",
       "OnlineBackup                               No\n",
       "DeviceProtection                          Yes\n",
       "TechSupport                               Yes\n",
       "StreamingTV                               Yes\n",
       "StreamingMovies                            No\n",
       "Contract                             Two year\n",
       "PaperlessBilling                          Yes\n",
       "PaymentMethod       Bank transfer (automatic)\n",
       "MonthlyCharges                          52.55\n",
       "TotalCharges                                 \n",
       "Churn                                      No\n",
       "Name: 488, dtype: object"
      ]
     },
     "execution_count": 14,
     "metadata": {},
     "output_type": "execute_result"
    }
   ],
   "source": [
    "df.iloc[488]\n"
   ]
  },
  {
   "cell_type": "code",
   "execution_count": 15,
   "id": "af6915c6",
   "metadata": {},
   "outputs": [],
   "source": [
    "#Replace the whitespace with 'NaN'\n",
    "\n",
    "df = df.replace('^\\s*$',np.nan, regex = True)\n"
   ]
  },
  {
   "cell_type": "code",
   "execution_count": 16,
   "id": "1e711b4b",
   "metadata": {},
   "outputs": [
    {
     "data": {
      "text/plain": [
       "gender               0\n",
       "SeniorCitizen        0\n",
       "Partner              0\n",
       "Dependents           0\n",
       "tenure               0\n",
       "PhoneService         0\n",
       "MultipleLines        0\n",
       "InternetService      0\n",
       "OnlineSecurity       0\n",
       "OnlineBackup         0\n",
       "DeviceProtection     0\n",
       "TechSupport          0\n",
       "StreamingTV          0\n",
       "StreamingMovies      0\n",
       "Contract             0\n",
       "PaperlessBilling     0\n",
       "PaymentMethod        0\n",
       "MonthlyCharges       0\n",
       "TotalCharges        11\n",
       "Churn                0\n",
       "dtype: int64"
      ]
     },
     "execution_count": 16,
     "metadata": {},
     "output_type": "execute_result"
    }
   ],
   "source": [
    "df.isnull().sum()\n"
   ]
  },
  {
   "cell_type": "code",
   "execution_count": 17,
   "id": "1ab31a25",
   "metadata": {},
   "outputs": [],
   "source": [
    "#drop nulls\n",
    "\n",
    "df.dropna(axis = 0 ,inplace = True)\n"
   ]
  },
  {
   "cell_type": "code",
   "execution_count": 18,
   "id": "f7077eaa",
   "metadata": {},
   "outputs": [
    {
     "data": {
      "text/plain": [
       "gender              0\n",
       "SeniorCitizen       0\n",
       "Partner             0\n",
       "Dependents          0\n",
       "tenure              0\n",
       "PhoneService        0\n",
       "MultipleLines       0\n",
       "InternetService     0\n",
       "OnlineSecurity      0\n",
       "OnlineBackup        0\n",
       "DeviceProtection    0\n",
       "TechSupport         0\n",
       "StreamingTV         0\n",
       "StreamingMovies     0\n",
       "Contract            0\n",
       "PaperlessBilling    0\n",
       "PaymentMethod       0\n",
       "MonthlyCharges      0\n",
       "TotalCharges        0\n",
       "Churn               0\n",
       "dtype: int64"
      ]
     },
     "execution_count": 18,
     "metadata": {},
     "output_type": "execute_result"
    }
   ],
   "source": [
    "df.isnull().sum()\n"
   ]
  },
  {
   "cell_type": "code",
   "execution_count": 21,
   "id": "c18a4aea",
   "metadata": {},
   "outputs": [],
   "source": [
    "df['TotalCharges'] = pd.to_numeric(df['TotalCharges'])\n",
    "\n"
   ]
  },
  {
   "cell_type": "code",
   "execution_count": 22,
   "id": "39d2c2a3",
   "metadata": {},
   "outputs": [
    {
     "data": {
      "text/plain": [
       "gender               object\n",
       "SeniorCitizen         int64\n",
       "Partner              object\n",
       "Dependents           object\n",
       "tenure                int64\n",
       "PhoneService         object\n",
       "MultipleLines        object\n",
       "InternetService      object\n",
       "OnlineSecurity       object\n",
       "OnlineBackup         object\n",
       "DeviceProtection     object\n",
       "TechSupport          object\n",
       "StreamingTV          object\n",
       "StreamingMovies      object\n",
       "Contract             object\n",
       "PaperlessBilling     object\n",
       "PaymentMethod        object\n",
       "MonthlyCharges      float64\n",
       "TotalCharges        float64\n",
       "Churn                object\n",
       "dtype: object"
      ]
     },
     "execution_count": 22,
     "metadata": {},
     "output_type": "execute_result"
    }
   ],
   "source": [
    "df.dtypes"
   ]
  },
  {
   "cell_type": "code",
   "execution_count": 38,
   "id": "200d18ac",
   "metadata": {},
   "outputs": [
    {
     "data": {
      "image/png": "[encoded data removed]",
      "text/plain": [
       "<Figure size 432x288 with 1 Axes>"
      ]
     },
     "metadata": {
      "needs_background": "light"
     },
     "output_type": "display_data"
    },
    {
     "data": {
      "image/png": "[encoded data removed]",
      "text/plain": [
       "<Figure size 432x288 with 1 Axes>"
      ]
     },
     "metadata": {
      "needs_background": "light"
     },
     "output_type": "display_data"
    }
   ],
   "source": [
    "#checking tenure\n",
    "\n",
    "churn_no = df[df.Churn=='No'].tenure\n",
    "churn_yes = df[df.Churn=='Yes'].tenure\n",
    "\n",
    "\n",
    "plt.hist([churn_no,churn_yes],color=['green','red'], label=[\"Churn No\",\"Churn Yes\"]);\n",
    "plt.legend()\n",
    "plt.xlabel(\"Tenure\")\n",
    "plt.ylabel(\"number of customers\")\n",
    "plt.title(\"Customer Churn Visualization - tenure\");\n",
    "\n",
    "\n",
    "plt.figure() \n",
    "\n",
    "\n",
    "\n",
    "#checking monthly charges\n",
    "\n",
    "churn_no = df[df.Churn=='No'].MonthlyCharges  \n",
    "churn_yes = df[df.Churn=='Yes'].MonthlyCharges  \n",
    "\n",
    "\n",
    "plt.hist([churn_no,churn_yes],color=['green','red'], label=[\"Churn No\",\"Churn Yes\"]);\n",
    "plt.legend()\n",
    "plt.xlabel(\"Tenure\")\n",
    "plt.ylabel(\"number of customers\")\n",
    "plt.title(\"Customer Churn Visualization - charges\");\n",
    "\n",
    "\n"
   ]
  },
  {
   "cell_type": "code",
   "execution_count": 51,
   "id": "1bcaee74",
   "metadata": {},
   "outputs": [],
   "source": [
    "#label encoding\n",
    "\n",
    "def unique_col_values(df):\n",
    "    for column in df:\n",
    "        if df[column].dtypes=='object':  #see only object dt\n",
    "            print(f'{column} : {df[column].unique()}')    #f-strings"
   ]
  },
  {
   "cell_type": "code",
   "execution_count": 53,
   "id": "80bd2636",
   "metadata": {},
   "outputs": [
    {
     "name": "stdout",
     "output_type": "stream",
     "text": [
      "gender : ['Female' 'Male']\n",
      "Partner : ['Yes' 'No']\n",
      "Dependents : ['No' 'Yes']\n",
      "PhoneService : ['No' 'Yes']\n",
      "MultipleLines : ['No phone service' 'No' 'Yes']\n",
      "InternetService : ['DSL' 'Fiber optic' 'No']\n",
      "OnlineSecurity : ['No' 'Yes' 'No internet service']\n",
      "OnlineBackup : ['Yes' 'No' 'No internet service']\n",
      "DeviceProtection : ['No' 'Yes' 'No internet service']\n",
      "TechSupport : ['No' 'Yes' 'No internet service']\n",
      "StreamingTV : ['No' 'Yes' 'No internet service']\n",
      "StreamingMovies : ['No' 'Yes' 'No internet service']\n",
      "Contract : ['Month-to-month' 'One year' 'Two year']\n",
      "PaperlessBilling : ['Yes' 'No']\n",
      "PaymentMethod : ['Electronic check' 'Mailed check' 'Bank transfer (automatic)'\n",
      " 'Credit card (automatic)']\n",
      "Churn : ['No' 'Yes']\n"
     ]
    }
   ],
   "source": [
    "unique_col_values(df)"
   ]
  },
  {
   "cell_type": "code",
   "execution_count": 54,
   "id": "55fc81b5",
   "metadata": {},
   "outputs": [],
   "source": [
    "df.replace(\"No internet service\",\"No\",inplace=True)\n",
    "df.replace(\"No phone service\",\"No\",inplace=True)"
   ]
  },
  {
   "cell_type": "code",
   "execution_count": 55,
   "id": "5742e35c",
   "metadata": {},
   "outputs": [
    {
     "name": "stdout",
     "output_type": "stream",
     "text": [
      "gender : ['Female' 'Male']\n",
      "Partner : ['Yes' 'No']\n",
      "Dependents : ['No' 'Yes']\n",
      "PhoneService : ['No' 'Yes']\n",
      "MultipleLines : ['No' 'Yes']\n",
      "InternetService : ['DSL' 'Fiber optic' 'No']\n",
      "OnlineSecurity : ['No' 'Yes']\n",
      "OnlineBackup : ['Yes' 'No']\n",
      "DeviceProtection : ['No' 'Yes']\n",
      "TechSupport : ['No' 'Yes']\n",
      "StreamingTV : ['No' 'Yes']\n",
      "StreamingMovies : ['No' 'Yes']\n",
      "Contract : ['Month-to-month' 'One year' 'Two year']\n",
      "PaperlessBilling : ['Yes' 'No']\n",
      "PaymentMethod : ['Electronic check' 'Mailed check' 'Bank transfer (automatic)'\n",
      " 'Credit card (automatic)']\n",
      "Churn : ['No' 'Yes']\n"
     ]
    }
   ],
   "source": [
    "unique_col_values(df)"
   ]
  },
  {
   "cell_type": "code",
   "execution_count": 56,
   "id": "c21132a1",
   "metadata": {},
   "outputs": [
    {
     "data": {
      "text/plain": [
       "['gender',\n",
       " 'SeniorCitizen',\n",
       " 'Partner',\n",
       " 'Dependents',\n",
       " 'tenure',\n",
       " 'PhoneService',\n",
       " 'MultipleLines',\n",
       " 'InternetService',\n",
       " 'OnlineSecurity',\n",
       " 'OnlineBackup',\n",
       " 'DeviceProtection',\n",
       " 'TechSupport',\n",
       " 'StreamingTV',\n",
       " 'StreamingMovies',\n",
       " 'Contract',\n",
       " 'PaperlessBilling',\n",
       " 'PaymentMethod',\n",
       " 'MonthlyCharges',\n",
       " 'TotalCharges',\n",
       " 'Churn']"
      ]
     },
     "execution_count": 56,
     "metadata": {},
     "output_type": "execute_result"
    }
   ],
   "source": [
    "list(df.columns.values)\n"
   ]
  },
  {
   "cell_type": "code",
   "execution_count": 57,
   "id": "54c4d064",
   "metadata": {},
   "outputs": [],
   "source": [
    "#replace with 1,0\n",
    "\n",
    "yes_no_col = ['Partner', 'Dependents','PhoneService','MultipleLines','OnlineSecurity', 'OnlineBackup','DeviceProtection',\n",
    "              'TechSupport','StreamingTV','StreamingMovies','PaperlessBilling','Churn']\n",
    "\n",
    "\n",
    "for col in yes_no_col:\n",
    "    df[col].replace(\"Yes\",\"1\",inplace=True)\n",
    "    df[col].replace(\"No\",\"0\",inplace=True)\n"
   ]
  },
  {
   "cell_type": "code",
   "execution_count": 58,
   "id": "a16e274e",
   "metadata": {},
   "outputs": [
    {
     "name": "stdout",
     "output_type": "stream",
     "text": [
      "gender : ['Female' 'Male']\n",
      "Partner : ['1' '0']\n",
      "Dependents : ['0' '1']\n",
      "PhoneService : ['0' '1']\n",
      "MultipleLines : ['0' '1']\n",
      "InternetService : ['DSL' 'Fiber optic' 'No']\n",
      "OnlineSecurity : ['0' '1']\n",
      "OnlineBackup : ['1' '0']\n",
      "DeviceProtection : ['0' '1']\n",
      "TechSupport : ['0' '1']\n",
      "StreamingTV : ['0' '1']\n",
      "StreamingMovies : ['0' '1']\n",
      "Contract : ['Month-to-month' 'One year' 'Two year']\n",
      "PaperlessBilling : ['1' '0']\n",
      "PaymentMethod : ['Electronic check' 'Mailed check' 'Bank transfer (automatic)'\n",
      " 'Credit card (automatic)']\n",
      "Churn : ['0' '1']\n"
     ]
    }
   ],
   "source": [
    "unique_col_values(df)"
   ]
  },
  {
   "cell_type": "code",
   "execution_count": 61,
   "id": "6f4066b0",
   "metadata": {},
   "outputs": [],
   "source": [
    "df['gender'].replace(\"Female\",\"1\",inplace=True)\n",
    "df['gender'].replace(\"Male\",\"0\",inplace=True)"
   ]
  },
  {
   "cell_type": "code",
   "execution_count": 62,
   "id": "6ba65708",
   "metadata": {},
   "outputs": [
    {
     "name": "stdout",
     "output_type": "stream",
     "text": [
      "gender : ['1' '0']\n",
      "Partner : ['1' '0']\n",
      "Dependents : ['0' '1']\n",
      "PhoneService : ['0' '1']\n",
      "MultipleLines : ['0' '1']\n",
      "InternetService : ['DSL' 'Fiber optic' 'No']\n",
      "OnlineSecurity : ['0' '1']\n",
      "OnlineBackup : ['1' '0']\n",
      "DeviceProtection : ['0' '1']\n",
      "TechSupport : ['0' '1']\n",
      "StreamingTV : ['0' '1']\n",
      "StreamingMovies : ['0' '1']\n",
      "Contract : ['Month-to-month' 'One year' 'Two year']\n",
      "PaperlessBilling : ['1' '0']\n",
      "PaymentMethod : ['Electronic check' 'Mailed check' 'Bank transfer (automatic)'\n",
      " 'Credit card (automatic)']\n",
      "Churn : ['0' '1']\n"
     ]
    }
   ],
   "source": [
    "unique_col_values(df)"
   ]
  },
  {
   "cell_type": "code",
   "execution_count": 63,
   "id": "80d2b2e7",
   "metadata": {},
   "outputs": [],
   "source": [
    "#one hot encoding for contrac, InternetService and PaymentMethod\n",
    "\n",
    "df1 = pd.get_dummies(data=df,columns=[\"InternetService\", \"Contract\",\"PaymentMethod\"])\n"
   ]
  },
  {
   "cell_type": "code",
   "execution_count": 65,
   "id": "8e8b1ba1",
   "metadata": {
    "scrolled": true
   },
   "outputs": [
    {
     "data": {
      "text/html": [
       "<div>\n",
       "<style scoped>\n",
       "    .dataframe tbody tr th:only-of-type {\n",
       "        vertical-align: middle;\n",
       "    }\n",
       "\n",
       "    .dataframe tbody tr th {\n",
       "        vertical-align: top;\n",
       "    }\n",
       "\n",
       "    .dataframe thead th {\n",
       "        text-align: right;\n",
       "    }\n",
       "</style>\n",
       "<table border=\"1\" class=\"dataframe\">\n",
       "  <thead>\n",
       "    <tr style=\"text-align: right;\">\n",
       "      <th></th>\n",
       "      <th>gender</th>\n",
       "      <th>SeniorCitizen</th>\n",
       "      <th>Partner</th>\n",
       "      <th>Dependents</th>\n",
       "      <th>tenure</th>\n",
       "      <th>PhoneService</th>\n",
       "      <th>MultipleLines</th>\n",
       "      <th>OnlineSecurity</th>\n",
       "      <th>OnlineBackup</th>\n",
       "      <th>DeviceProtection</th>\n",
       "      <th>...</th>\n",
       "      <th>InternetService_DSL</th>\n",
       "      <th>InternetService_Fiber optic</th>\n",
       "      <th>InternetService_No</th>\n",
       "      <th>Contract_Month-to-month</th>\n",
       "      <th>Contract_One year</th>\n",
       "      <th>Contract_Two year</th>\n",
       "      <th>PaymentMethod_Bank transfer (automatic)</th>\n",
       "      <th>PaymentMethod_Credit card (automatic)</th>\n",
       "      <th>PaymentMethod_Electronic check</th>\n",
       "      <th>PaymentMethod_Mailed check</th>\n",
       "    </tr>\n",
       "  </thead>\n",
       "  <tbody>\n",
       "    <tr>\n",
       "      <th>818</th>\n",
       "      <td>0</td>\n",
       "      <td>0</td>\n",
       "      <td>1</td>\n",
       "      <td>0</td>\n",
       "      <td>21</td>\n",
       "      <td>1</td>\n",
       "      <td>1</td>\n",
       "      <td>0</td>\n",
       "      <td>1</td>\n",
       "      <td>1</td>\n",
       "      <td>...</td>\n",
       "      <td>0</td>\n",
       "      <td>1</td>\n",
       "      <td>0</td>\n",
       "      <td>1</td>\n",
       "      <td>0</td>\n",
       "      <td>0</td>\n",
       "      <td>0</td>\n",
       "      <td>0</td>\n",
       "      <td>1</td>\n",
       "      <td>0</td>\n",
       "    </tr>\n",
       "    <tr>\n",
       "      <th>5420</th>\n",
       "      <td>0</td>\n",
       "      <td>0</td>\n",
       "      <td>1</td>\n",
       "      <td>0</td>\n",
       "      <td>70</td>\n",
       "      <td>1</td>\n",
       "      <td>1</td>\n",
       "      <td>1</td>\n",
       "      <td>1</td>\n",
       "      <td>1</td>\n",
       "      <td>...</td>\n",
       "      <td>0</td>\n",
       "      <td>1</td>\n",
       "      <td>0</td>\n",
       "      <td>0</td>\n",
       "      <td>0</td>\n",
       "      <td>1</td>\n",
       "      <td>0</td>\n",
       "      <td>1</td>\n",
       "      <td>0</td>\n",
       "      <td>0</td>\n",
       "    </tr>\n",
       "    <tr>\n",
       "      <th>2345</th>\n",
       "      <td>1</td>\n",
       "      <td>0</td>\n",
       "      <td>0</td>\n",
       "      <td>1</td>\n",
       "      <td>4</td>\n",
       "      <td>1</td>\n",
       "      <td>0</td>\n",
       "      <td>0</td>\n",
       "      <td>0</td>\n",
       "      <td>0</td>\n",
       "      <td>...</td>\n",
       "      <td>0</td>\n",
       "      <td>0</td>\n",
       "      <td>1</td>\n",
       "      <td>1</td>\n",
       "      <td>0</td>\n",
       "      <td>0</td>\n",
       "      <td>1</td>\n",
       "      <td>0</td>\n",
       "      <td>0</td>\n",
       "      <td>0</td>\n",
       "    </tr>\n",
       "    <tr>\n",
       "      <th>4812</th>\n",
       "      <td>1</td>\n",
       "      <td>0</td>\n",
       "      <td>0</td>\n",
       "      <td>0</td>\n",
       "      <td>9</td>\n",
       "      <td>1</td>\n",
       "      <td>0</td>\n",
       "      <td>0</td>\n",
       "      <td>1</td>\n",
       "      <td>0</td>\n",
       "      <td>...</td>\n",
       "      <td>1</td>\n",
       "      <td>0</td>\n",
       "      <td>0</td>\n",
       "      <td>1</td>\n",
       "      <td>0</td>\n",
       "      <td>0</td>\n",
       "      <td>0</td>\n",
       "      <td>0</td>\n",
       "      <td>0</td>\n",
       "      <td>1</td>\n",
       "    </tr>\n",
       "    <tr>\n",
       "      <th>6463</th>\n",
       "      <td>0</td>\n",
       "      <td>0</td>\n",
       "      <td>1</td>\n",
       "      <td>0</td>\n",
       "      <td>59</td>\n",
       "      <td>1</td>\n",
       "      <td>1</td>\n",
       "      <td>1</td>\n",
       "      <td>0</td>\n",
       "      <td>0</td>\n",
       "      <td>...</td>\n",
       "      <td>1</td>\n",
       "      <td>0</td>\n",
       "      <td>0</td>\n",
       "      <td>0</td>\n",
       "      <td>1</td>\n",
       "      <td>0</td>\n",
       "      <td>0</td>\n",
       "      <td>0</td>\n",
       "      <td>0</td>\n",
       "      <td>1</td>\n",
       "    </tr>\n",
       "  </tbody>\n",
       "</table>\n",
       "<p>5 rows × 27 columns</p>\n",
       "</div>"
      ],
      "text/plain": [
       "     gender  SeniorCitizen Partner Dependents  tenure PhoneService  \\\n",
       "818       0              0       1          0      21            1   \n",
       "5420      0              0       1          0      70            1   \n",
       "2345      1              0       0          1       4            1   \n",
       "4812      1              0       0          0       9            1   \n",
       "6463      0              0       1          0      59            1   \n",
       "\n",
       "     MultipleLines OnlineSecurity OnlineBackup DeviceProtection  ...  \\\n",
       "818              1              0            1                1  ...   \n",
       "5420             1              1            1                1  ...   \n",
       "2345             0              0            0                0  ...   \n",
       "4812             0              0            1                0  ...   \n",
       "6463             1              1            0                0  ...   \n",
       "\n",
       "     InternetService_DSL InternetService_Fiber optic InternetService_No  \\\n",
       "818                    0                           1                  0   \n",
       "5420                   0                           1                  0   \n",
       "2345                   0                           0                  1   \n",
       "4812                   1                           0                  0   \n",
       "6463                   1                           0                  0   \n",
       "\n",
       "     Contract_Month-to-month  Contract_One year  Contract_Two year  \\\n",
       "818                        1                  0                  0   \n",
       "5420                       0                  0                  1   \n",
       "2345                       1                  0                  0   \n",
       "4812                       1                  0                  0   \n",
       "6463                       0                  1                  0   \n",
       "\n",
       "     PaymentMethod_Bank transfer (automatic)  \\\n",
       "818                                        0   \n",
       "5420                                       0   \n",
       "2345                                       1   \n",
       "4812                                       0   \n",
       "6463                                       0   \n",
       "\n",
       "      PaymentMethod_Credit card (automatic)  PaymentMethod_Electronic check  \\\n",
       "818                                       0                               1   \n",
       "5420                                      1                               0   \n",
       "2345                                      0                               0   \n",
       "4812                                      0                               0   \n",
       "6463                                      0                               0   \n",
       "\n",
       "      PaymentMethod_Mailed check  \n",
       "818                            0  \n",
       "5420                           0  \n",
       "2345                           0  \n",
       "4812                           1  \n",
       "6463                           1  \n",
       "\n",
       "[5 rows x 27 columns]"
      ]
     },
     "execution_count": 65,
     "metadata": {},
     "output_type": "execute_result"
    }
   ],
   "source": [
    "df1.sample(5)"
   ]
  },
  {
   "cell_type": "code",
   "execution_count": 66,
   "id": "8c7dc172",
   "metadata": {},
   "outputs": [],
   "source": [
    "#scaling columns (tenure, monthly and total charges)"
   ]
  },
  {
   "cell_type": "code",
   "execution_count": 68,
   "id": "fe6b40d6",
   "metadata": {},
   "outputs": [],
   "source": [
    "col_scale=[\"tenure\",'TotalCharges','MonthlyCharges']\n",
    "\n",
    "\n",
    "from sklearn.preprocessing import MinMaxScaler\n",
    "scaler = MinMaxScaler()\n",
    "\n",
    "\n",
    "df1[col_scale] = scaler.fit_transform(df1[col_scale])"
   ]
  },
  {
   "cell_type": "code",
   "execution_count": 76,
   "id": "abfe41ce",
   "metadata": {},
   "outputs": [
    {
     "name": "stdout",
     "output_type": "stream",
     "text": [
      " gender: ['1' '0']\n",
      " SeniorCitizen: [0 1]\n",
      " Partner: ['1' '0']\n",
      " Dependents: ['0' '1']\n",
      " tenure: [0.         0.46478873 0.01408451 0.61971831 0.09859155 0.29577465\n",
      " 0.12676056 0.38028169 0.85915493 0.16901408 0.21126761 0.8028169\n",
      " 0.67605634 0.33802817 0.95774648 0.71830986 0.98591549 0.28169014\n",
      " 0.15492958 0.4084507  0.64788732 1.         0.22535211 0.36619718\n",
      " 0.05633803 0.63380282 0.14084507 0.97183099 0.87323944 0.5915493\n",
      " 0.1971831  0.83098592 0.23943662 0.91549296 0.11267606 0.02816901\n",
      " 0.42253521 0.69014085 0.88732394 0.77464789 0.08450704 0.57746479\n",
      " 0.47887324 0.66197183 0.3943662  0.90140845 0.52112676 0.94366197\n",
      " 0.43661972 0.76056338 0.50704225 0.49295775 0.56338028 0.07042254\n",
      " 0.04225352 0.45070423 0.92957746 0.30985915 0.78873239 0.84507042\n",
      " 0.18309859 0.26760563 0.73239437 0.54929577 0.81690141 0.32394366\n",
      " 0.6056338  0.25352113 0.74647887 0.70422535 0.35211268 0.53521127]\n",
      " PhoneService: ['0' '1']\n",
      " MultipleLines: ['0' '1']\n",
      " OnlineSecurity: ['0' '1']\n",
      " OnlineBackup: ['1' '0']\n",
      " DeviceProtection: ['0' '1']\n",
      " TechSupport: ['0' '1']\n",
      " StreamingTV: ['0' '1']\n",
      " StreamingMovies: ['0' '1']\n",
      " PaperlessBilling: ['1' '0']\n",
      " MonthlyCharges: [0.11542289 0.38507463 0.35422886 ... 0.44626866 0.25820896 0.60149254]\n",
      " TotalCharges: [0.0012751  0.21586661 0.01031041 ... 0.03780868 0.03321025 0.78764136]\n",
      " Churn: ['0' '1']\n",
      " InternetService_DSL: [1 0]\n",
      " InternetService_Fiber optic: [0 1]\n",
      " InternetService_No: [0 1]\n",
      " Contract_Month-to-month: [1 0]\n",
      " Contract_One year: [0 1]\n",
      " Contract_Two year: [0 1]\n",
      " PaymentMethod_Bank transfer (automatic): [0 1]\n",
      " PaymentMethod_Credit card (automatic): [0 1]\n",
      " PaymentMethod_Electronic check: [1 0]\n",
      " PaymentMethod_Mailed check: [0 1]\n"
     ]
    }
   ],
   "source": [
    "for col in df1:\n",
    "    print(f' {col}: {df1[col].unique()}')\n"
   ]
  },
  {
   "cell_type": "code",
   "execution_count": 77,
   "id": "5a575d8d",
   "metadata": {},
   "outputs": [],
   "source": [
    "#TRAIN and TEST split 80-20"
   ]
  },
  {
   "cell_type": "code",
   "execution_count": 92,
   "id": "d68889f5",
   "metadata": {},
   "outputs": [],
   "source": [
    "X = df1.drop('Churn', axis=1)\n",
    "Y = df1[\"Churn\"]"
   ]
  },
  {
   "cell_type": "code",
   "execution_count": 94,
   "id": "6a0cc2f0",
   "metadata": {},
   "outputs": [],
   "source": [
    "from sklearn.model_selection import train_test_split\n",
    "\n",
    "X_train, X_test, Y_train, Y_test = train_test_split(X,Y,test_size=0.2,random_state=5)"
   ]
  },
  {
   "cell_type": "code",
   "execution_count": 95,
   "id": "4919b0d6",
   "metadata": {},
   "outputs": [
    {
     "data": {
      "text/plain": [
       "(5625, 26)"
      ]
     },
     "execution_count": 95,
     "metadata": {},
     "output_type": "execute_result"
    }
   ],
   "source": [
    "X_train.shape"
   ]
  },
  {
   "cell_type": "code",
   "execution_count": 96,
   "id": "63b0f078",
   "metadata": {
    "scrolled": true
   },
   "outputs": [
    {
     "data": {
      "text/plain": [
       "(1407, 26)"
      ]
     },
     "execution_count": 96,
     "metadata": {},
     "output_type": "execute_result"
    }
   ],
   "source": [
    "X_test.shape"
   ]
  },
  {
   "cell_type": "code",
   "execution_count": 97,
   "id": "b05ec164",
   "metadata": {},
   "outputs": [
    {
     "data": {
      "text/plain": [
       "26"
      ]
     },
     "execution_count": 97,
     "metadata": {},
     "output_type": "execute_result"
    }
   ],
   "source": [
    "len(X_train.columns)"
   ]
  },
  {
   "cell_type": "code",
   "execution_count": 98,
   "id": "39702e6f",
   "metadata": {},
   "outputs": [],
   "source": [
    "#import tensorflow"
   ]
  },
  {
   "cell_type": "code",
   "execution_count": 124,
   "id": "bfc7efff",
   "metadata": {},
   "outputs": [],
   "source": [
    "import tensorflow as tf\n",
    "from tensorflow import keras\n",
    "\n",
    "#model design\n",
    "model = keras.Sequential([\n",
    "        keras.layers.Dense(20,input_shape=(26,), activation= 'relu'), #hidden layer\n",
    "        keras.layers.Dense(1, activation= 'sigmoid') #output layer\n",
    "        \n",
    "])\n",
    "\n"
   ]
  },
  {
   "cell_type": "code",
   "execution_count": 125,
   "id": "18d00393",
   "metadata": {},
   "outputs": [
    {
     "name": "stdout",
     "output_type": "stream",
     "text": [
      "Model: \"sequential_2\"\n",
      "_________________________________________________________________\n",
      " Layer (type)                Output Shape              Param #   \n",
      "=================================================================\n",
      " dense_4 (Dense)             (None, 20)                540       \n",
      "                                                                 \n",
      " dense_5 (Dense)             (None, 1)                 21        \n",
      "                                                                 \n",
      "=================================================================\n",
      "Total params: 561\n",
      "Trainable params: 561\n",
      "Non-trainable params: 0\n",
      "_________________________________________________________________\n"
     ]
    }
   ],
   "source": [
    "model.summary() #hidden layer and output layer"
   ]
  },
  {
   "cell_type": "code",
   "execution_count": 169,
   "id": "b9dc7b38",
   "metadata": {},
   "outputs": [
    {
     "name": "stdout",
     "output_type": "stream",
     "text": [
      "Epoch 1/150\n",
      "176/176 [==============================] - 0s 554us/step - loss: 0.3733 - accuracy: 0.8236\n",
      "Epoch 2/150\n",
      "176/176 [==============================] - 0s 559us/step - loss: 0.3723 - accuracy: 0.8249\n",
      "Epoch 3/150\n",
      "176/176 [==============================] - 0s 578us/step - loss: 0.3735 - accuracy: 0.8252\n",
      "Epoch 4/150\n",
      "176/176 [==============================] - 0s 566us/step - loss: 0.3727 - accuracy: 0.8236\n",
      "Epoch 5/150\n",
      "176/176 [==============================] - 0s 570us/step - loss: 0.3727 - accuracy: 0.8260\n",
      "Epoch 6/150\n",
      "176/176 [==============================] - 0s 543us/step - loss: 0.3723 - accuracy: 0.8279\n",
      "Epoch 7/150\n",
      "176/176 [==============================] - 0s 593us/step - loss: 0.3726 - accuracy: 0.8256\n",
      "Epoch 8/150\n",
      "176/176 [==============================] - 0s 538us/step - loss: 0.3733 - accuracy: 0.8219\n",
      "Epoch 9/150\n",
      "176/176 [==============================] - 0s 563us/step - loss: 0.3723 - accuracy: 0.8281\n",
      "Epoch 10/150\n",
      "176/176 [==============================] - 0s 560us/step - loss: 0.3718 - accuracy: 0.8263\n",
      "Epoch 11/150\n",
      "176/176 [==============================] - 0s 555us/step - loss: 0.3721 - accuracy: 0.8256\n",
      "Epoch 12/150\n",
      "176/176 [==============================] - 0s 594us/step - loss: 0.3712 - accuracy: 0.8267\n",
      "Epoch 13/150\n",
      "176/176 [==============================] - 0s 617us/step - loss: 0.3722 - accuracy: 0.8276\n",
      "Epoch 14/150\n",
      "176/176 [==============================] - 0s 606us/step - loss: 0.3714 - accuracy: 0.8267\n",
      "Epoch 15/150\n",
      "176/176 [==============================] - 0s 550us/step - loss: 0.3713 - accuracy: 0.8272\n",
      "Epoch 16/150\n",
      "176/176 [==============================] - 0s 588us/step - loss: 0.3714 - accuracy: 0.8249\n",
      "Epoch 17/150\n",
      "176/176 [==============================] - 0s 584us/step - loss: 0.3711 - accuracy: 0.8251\n",
      "Epoch 18/150\n",
      "176/176 [==============================] - 0s 561us/step - loss: 0.3721 - accuracy: 0.8263\n",
      "Epoch 19/150\n",
      "176/176 [==============================] - 0s 583us/step - loss: 0.3718 - accuracy: 0.8254\n",
      "Epoch 20/150\n",
      "176/176 [==============================] - 0s 555us/step - loss: 0.3710 - accuracy: 0.8268\n",
      "Epoch 21/150\n",
      "176/176 [==============================] - 0s 549us/step - loss: 0.3708 - accuracy: 0.8309\n",
      "Epoch 22/150\n",
      "176/176 [==============================] - 0s 542us/step - loss: 0.3717 - accuracy: 0.8272\n",
      "Epoch 23/150\n",
      "176/176 [==============================] - 0s 553us/step - loss: 0.3709 - accuracy: 0.8274\n",
      "Epoch 24/150\n",
      "176/176 [==============================] - 0s 584us/step - loss: 0.3707 - accuracy: 0.8277\n",
      "Epoch 25/150\n",
      "176/176 [==============================] - 0s 549us/step - loss: 0.3702 - accuracy: 0.8258\n",
      "Epoch 26/150\n",
      "176/176 [==============================] - 0s 552us/step - loss: 0.3706 - accuracy: 0.8274\n",
      "Epoch 27/150\n",
      "176/176 [==============================] - 0s 556us/step - loss: 0.3704 - accuracy: 0.8249\n",
      "Epoch 28/150\n",
      "176/176 [==============================] - 0s 550us/step - loss: 0.3701 - accuracy: 0.8245\n",
      "Epoch 29/150\n",
      "176/176 [==============================] - 0s 562us/step - loss: 0.3696 - accuracy: 0.8267\n",
      "Epoch 30/150\n",
      "176/176 [==============================] - 0s 548us/step - loss: 0.3702 - accuracy: 0.8265\n",
      "Epoch 31/150\n",
      "176/176 [==============================] - 0s 619us/step - loss: 0.3694 - accuracy: 0.8249\n",
      "Epoch 32/150\n",
      "176/176 [==============================] - 0s 573us/step - loss: 0.3702 - accuracy: 0.8267\n",
      "Epoch 33/150\n",
      "176/176 [==============================] - 0s 570us/step - loss: 0.3702 - accuracy: 0.8277\n",
      "Epoch 34/150\n",
      "176/176 [==============================] - 0s 545us/step - loss: 0.3699 - accuracy: 0.8274\n",
      "Epoch 35/150\n",
      "176/176 [==============================] - 0s 567us/step - loss: 0.3699 - accuracy: 0.8279\n",
      "Epoch 36/150\n",
      "176/176 [==============================] - 0s 562us/step - loss: 0.3695 - accuracy: 0.8265\n",
      "Epoch 37/150\n",
      "176/176 [==============================] - 0s 556us/step - loss: 0.3693 - accuracy: 0.8265\n",
      "Epoch 38/150\n",
      "176/176 [==============================] - 0s 570us/step - loss: 0.3697 - accuracy: 0.8270\n",
      "Epoch 39/150\n",
      "176/176 [==============================] - 0s 573us/step - loss: 0.3697 - accuracy: 0.8254\n",
      "Epoch 40/150\n",
      "176/176 [==============================] - 0s 573us/step - loss: 0.3700 - accuracy: 0.8286\n",
      "Epoch 41/150\n",
      "176/176 [==============================] - 0s 633us/step - loss: 0.3691 - accuracy: 0.8284\n",
      "Epoch 42/150\n",
      "176/176 [==============================] - 0s 579us/step - loss: 0.3692 - accuracy: 0.8297\n",
      "Epoch 43/150\n",
      "176/176 [==============================] - 0s 588us/step - loss: 0.3688 - accuracy: 0.8290\n",
      "Epoch 44/150\n",
      "176/176 [==============================] - 0s 555us/step - loss: 0.3696 - accuracy: 0.8268\n",
      "Epoch 45/150\n",
      "176/176 [==============================] - 0s 536us/step - loss: 0.3687 - accuracy: 0.8281\n",
      "Epoch 46/150\n",
      "176/176 [==============================] - 0s 544us/step - loss: 0.3691 - accuracy: 0.8276\n",
      "Epoch 47/150\n",
      "176/176 [==============================] - 0s 547us/step - loss: 0.3687 - accuracy: 0.8286\n",
      "Epoch 48/150\n",
      "176/176 [==============================] - 0s 565us/step - loss: 0.3682 - accuracy: 0.8276\n",
      "Epoch 49/150\n",
      "176/176 [==============================] - 0s 555us/step - loss: 0.3684 - accuracy: 0.8293\n",
      "Epoch 50/150\n",
      "176/176 [==============================] - 0s 565us/step - loss: 0.3683 - accuracy: 0.8293\n",
      "Epoch 51/150\n",
      "176/176 [==============================] - 0s 548us/step - loss: 0.3679 - accuracy: 0.8292\n",
      "Epoch 52/150\n",
      "176/176 [==============================] - 0s 537us/step - loss: 0.3688 - accuracy: 0.8283\n",
      "Epoch 53/150\n",
      "176/176 [==============================] - 0s 548us/step - loss: 0.3689 - accuracy: 0.8292\n",
      "Epoch 54/150\n",
      "176/176 [==============================] - 0s 561us/step - loss: 0.3679 - accuracy: 0.8281\n",
      "Epoch 55/150\n",
      "176/176 [==============================] - 0s 562us/step - loss: 0.3682 - accuracy: 0.8286\n",
      "Epoch 56/150\n",
      "176/176 [==============================] - 0s 555us/step - loss: 0.3682 - accuracy: 0.8276\n",
      "Epoch 57/150\n",
      "176/176 [==============================] - 0s 567us/step - loss: 0.3683 - accuracy: 0.8270\n",
      "Epoch 58/150\n",
      "176/176 [==============================] - 0s 572us/step - loss: 0.3681 - accuracy: 0.8292\n",
      "Epoch 59/150\n",
      "176/176 [==============================] - 0s 560us/step - loss: 0.3681 - accuracy: 0.8268\n",
      "Epoch 60/150\n",
      "176/176 [==============================] - 0s 601us/step - loss: 0.3674 - accuracy: 0.8302\n",
      "Epoch 61/150\n",
      "176/176 [==============================] - 0s 600us/step - loss: 0.3679 - accuracy: 0.8283\n",
      "Epoch 62/150\n",
      "176/176 [==============================] - 0s 617us/step - loss: 0.3683 - accuracy: 0.8270\n",
      "Epoch 63/150\n",
      "176/176 [==============================] - 0s 576us/step - loss: 0.3674 - accuracy: 0.8308\n",
      "Epoch 64/150\n",
      "176/176 [==============================] - 0s 601us/step - loss: 0.3673 - accuracy: 0.8306\n",
      "Epoch 65/150\n",
      "176/176 [==============================] - 0s 608us/step - loss: 0.3676 - accuracy: 0.8295\n",
      "Epoch 66/150\n",
      "176/176 [==============================] - 0s 565us/step - loss: 0.3667 - accuracy: 0.8293\n",
      "Epoch 67/150\n",
      "176/176 [==============================] - 0s 593us/step - loss: 0.3670 - accuracy: 0.8292\n",
      "Epoch 68/150\n",
      "176/176 [==============================] - 0s 546us/step - loss: 0.3671 - accuracy: 0.8290\n",
      "Epoch 69/150\n",
      "176/176 [==============================] - 0s 538us/step - loss: 0.3672 - accuracy: 0.8260\n",
      "Epoch 70/150\n",
      "176/176 [==============================] - 0s 537us/step - loss: 0.3665 - accuracy: 0.8299\n",
      "Epoch 71/150\n",
      "176/176 [==============================] - 0s 548us/step - loss: 0.3670 - accuracy: 0.8306\n",
      "Epoch 72/150\n",
      "176/176 [==============================] - 0s 561us/step - loss: 0.3670 - accuracy: 0.8277\n",
      "Epoch 73/150\n",
      "176/176 [==============================] - 0s 571us/step - loss: 0.3666 - accuracy: 0.8313\n",
      "Epoch 74/150\n",
      "176/176 [==============================] - 0s 560us/step - loss: 0.3673 - accuracy: 0.8265\n",
      "Epoch 75/150\n",
      "176/176 [==============================] - 0s 534us/step - loss: 0.3670 - accuracy: 0.8292\n",
      "Epoch 76/150\n",
      "176/176 [==============================] - 0s 534us/step - loss: 0.3663 - accuracy: 0.8295\n",
      "Epoch 77/150\n",
      "176/176 [==============================] - 0s 533us/step - loss: 0.3669 - accuracy: 0.8279\n",
      "Epoch 78/150\n",
      "176/176 [==============================] - 0s 579us/step - loss: 0.3664 - accuracy: 0.8322\n",
      "Epoch 79/150\n"
     ]
    },
    {
     "name": "stdout",
     "output_type": "stream",
     "text": [
      "176/176 [==============================] - 0s 596us/step - loss: 0.3656 - accuracy: 0.8302\n",
      "Epoch 80/150\n",
      "176/176 [==============================] - 0s 636us/step - loss: 0.3668 - accuracy: 0.8293\n",
      "Epoch 81/150\n",
      "176/176 [==============================] - 0s 586us/step - loss: 0.3663 - accuracy: 0.8318\n",
      "Epoch 82/150\n",
      "176/176 [==============================] - 0s 542us/step - loss: 0.3659 - accuracy: 0.8297\n",
      "Epoch 83/150\n",
      "176/176 [==============================] - 0s 541us/step - loss: 0.3665 - accuracy: 0.8311\n",
      "Epoch 84/150\n",
      "176/176 [==============================] - 0s 552us/step - loss: 0.3661 - accuracy: 0.8288\n",
      "Epoch 85/150\n",
      "176/176 [==============================] - 0s 562us/step - loss: 0.3661 - accuracy: 0.8311\n",
      "Epoch 86/150\n",
      "176/176 [==============================] - 0s 559us/step - loss: 0.3658 - accuracy: 0.8313\n",
      "Epoch 87/150\n",
      "176/176 [==============================] - 0s 553us/step - loss: 0.3655 - accuracy: 0.8286\n",
      "Epoch 88/150\n",
      "176/176 [==============================] - 0s 590us/step - loss: 0.3648 - accuracy: 0.8288\n",
      "Epoch 89/150\n",
      "176/176 [==============================] - 0s 598us/step - loss: 0.3663 - accuracy: 0.8299\n",
      "Epoch 90/150\n",
      "176/176 [==============================] - 0s 630us/step - loss: 0.3663 - accuracy: 0.8286\n",
      "Epoch 91/150\n",
      "176/176 [==============================] - 0s 567us/step - loss: 0.3653 - accuracy: 0.8288\n",
      "Epoch 92/150\n",
      "176/176 [==============================] - 0s 585us/step - loss: 0.3667 - accuracy: 0.8281\n",
      "Epoch 93/150\n",
      "176/176 [==============================] - 0s 573us/step - loss: 0.3658 - accuracy: 0.8276\n",
      "Epoch 94/150\n",
      "176/176 [==============================] - 0s 567us/step - loss: 0.3649 - accuracy: 0.8274\n",
      "Epoch 95/150\n",
      "176/176 [==============================] - 0s 536us/step - loss: 0.3653 - accuracy: 0.8309\n",
      "Epoch 96/150\n",
      "176/176 [==============================] - 0s 556us/step - loss: 0.3651 - accuracy: 0.8286\n",
      "Epoch 97/150\n",
      "176/176 [==============================] - 0s 550us/step - loss: 0.3641 - accuracy: 0.8283\n",
      "Epoch 98/150\n",
      "176/176 [==============================] - 0s 549us/step - loss: 0.3655 - accuracy: 0.8283\n",
      "Epoch 99/150\n",
      "176/176 [==============================] - 0s 533us/step - loss: 0.3655 - accuracy: 0.8295\n",
      "Epoch 100/150\n",
      "176/176 [==============================] - 0s 535us/step - loss: 0.3651 - accuracy: 0.8311\n",
      "Epoch 101/150\n",
      "176/176 [==============================] - 0s 562us/step - loss: 0.3649 - accuracy: 0.8272\n",
      "Epoch 102/150\n",
      "176/176 [==============================] - 0s 573us/step - loss: 0.3648 - accuracy: 0.8297\n",
      "Epoch 103/150\n",
      "176/176 [==============================] - 0s 570us/step - loss: 0.3652 - accuracy: 0.8316\n",
      "Epoch 104/150\n",
      "176/176 [==============================] - 0s 582us/step - loss: 0.3645 - accuracy: 0.8288\n",
      "Epoch 105/150\n",
      "176/176 [==============================] - 0s 547us/step - loss: 0.3648 - accuracy: 0.8281\n",
      "Epoch 106/150\n",
      "176/176 [==============================] - 0s 552us/step - loss: 0.3642 - accuracy: 0.8306\n",
      "Epoch 107/150\n",
      "176/176 [==============================] - 0s 556us/step - loss: 0.3644 - accuracy: 0.8284\n",
      "Epoch 108/150\n",
      "176/176 [==============================] - 0s 576us/step - loss: 0.3643 - accuracy: 0.8295\n",
      "Epoch 109/150\n",
      "176/176 [==============================] - 0s 575us/step - loss: 0.3647 - accuracy: 0.8308\n",
      "Epoch 110/150\n",
      "176/176 [==============================] - 0s 550us/step - loss: 0.3645 - accuracy: 0.8281\n",
      "Epoch 111/150\n",
      "176/176 [==============================] - 0s 534us/step - loss: 0.3641 - accuracy: 0.8315\n",
      "Epoch 112/150\n",
      "176/176 [==============================] - 0s 576us/step - loss: 0.3640 - accuracy: 0.8274\n",
      "Epoch 113/150\n",
      "176/176 [==============================] - 0s 559us/step - loss: 0.3642 - accuracy: 0.8318\n",
      "Epoch 114/150\n",
      "176/176 [==============================] - 0s 582us/step - loss: 0.3638 - accuracy: 0.8297\n",
      "Epoch 115/150\n",
      "176/176 [==============================] - 0s 554us/step - loss: 0.3639 - accuracy: 0.8263\n",
      "Epoch 116/150\n",
      "176/176 [==============================] - 0s 487us/step - loss: 0.3644 - accuracy: 0.8300\n",
      "Epoch 117/150\n",
      "176/176 [==============================] - 0s 604us/step - loss: 0.3638 - accuracy: 0.8306\n",
      "Epoch 118/150\n",
      "176/176 [==============================] - 0s 620us/step - loss: 0.3634 - accuracy: 0.8284\n",
      "Epoch 119/150\n",
      "176/176 [==============================] - 0s 641us/step - loss: 0.3634 - accuracy: 0.8308\n",
      "Epoch 120/150\n",
      "176/176 [==============================] - 0s 566us/step - loss: 0.3633 - accuracy: 0.8284\n",
      "Epoch 121/150\n",
      "176/176 [==============================] - 0s 567us/step - loss: 0.3654 - accuracy: 0.8267\n",
      "Epoch 122/150\n",
      "176/176 [==============================] - 0s 567us/step - loss: 0.3634 - accuracy: 0.8300\n",
      "Epoch 123/150\n",
      "176/176 [==============================] - 0s 566us/step - loss: 0.3634 - accuracy: 0.8277\n",
      "Epoch 124/150\n",
      "176/176 [==============================] - 0s 581us/step - loss: 0.3632 - accuracy: 0.8308\n",
      "Epoch 125/150\n",
      "176/176 [==============================] - 0s 566us/step - loss: 0.3636 - accuracy: 0.8320\n",
      "Epoch 126/150\n",
      "176/176 [==============================] - 0s 543us/step - loss: 0.3631 - accuracy: 0.8283\n",
      "Epoch 127/150\n",
      "176/176 [==============================] - 0s 554us/step - loss: 0.3631 - accuracy: 0.8297\n",
      "Epoch 128/150\n",
      "176/176 [==============================] - 0s 567us/step - loss: 0.3633 - accuracy: 0.8281\n",
      "Epoch 129/150\n",
      "176/176 [==============================] - 0s 564us/step - loss: 0.3627 - accuracy: 0.8306\n",
      "Epoch 130/150\n",
      "176/176 [==============================] - 0s 561us/step - loss: 0.3633 - accuracy: 0.8290\n",
      "Epoch 131/150\n",
      "176/176 [==============================] - 0s 559us/step - loss: 0.3632 - accuracy: 0.8288\n",
      "Epoch 132/150\n",
      "176/176 [==============================] - 0s 551us/step - loss: 0.3636 - accuracy: 0.8286\n",
      "Epoch 133/150\n",
      "176/176 [==============================] - 0s 536us/step - loss: 0.3624 - accuracy: 0.8302\n",
      "Epoch 134/150\n",
      "176/176 [==============================] - 0s 530us/step - loss: 0.3625 - accuracy: 0.8288\n",
      "Epoch 135/150\n",
      "176/176 [==============================] - 0s 554us/step - loss: 0.3630 - accuracy: 0.8297\n",
      "Epoch 136/150\n",
      "176/176 [==============================] - 0s 559us/step - loss: 0.3627 - accuracy: 0.8297\n",
      "Epoch 137/150\n",
      "176/176 [==============================] - 0s 564us/step - loss: 0.3634 - accuracy: 0.8309\n",
      "Epoch 138/150\n",
      "176/176 [==============================] - 0s 543us/step - loss: 0.3627 - accuracy: 0.8313\n",
      "Epoch 139/150\n",
      "176/176 [==============================] - 0s 562us/step - loss: 0.3634 - accuracy: 0.8295\n",
      "Epoch 140/150\n",
      "176/176 [==============================] - 0s 567us/step - loss: 0.3636 - accuracy: 0.8260\n",
      "Epoch 141/150\n",
      "176/176 [==============================] - 0s 544us/step - loss: 0.3630 - accuracy: 0.8286\n",
      "Epoch 142/150\n",
      "176/176 [==============================] - 0s 568us/step - loss: 0.3631 - accuracy: 0.8274\n",
      "Epoch 143/150\n",
      "176/176 [==============================] - 0s 556us/step - loss: 0.3628 - accuracy: 0.8302\n",
      "Epoch 144/150\n",
      "176/176 [==============================] - 0s 572us/step - loss: 0.3628 - accuracy: 0.8265\n",
      "Epoch 145/150\n",
      "176/176 [==============================] - 0s 537us/step - loss: 0.3624 - accuracy: 0.8295\n",
      "Epoch 146/150\n",
      "176/176 [==============================] - 0s 567us/step - loss: 0.3625 - accuracy: 0.8308\n",
      "Epoch 147/150\n",
      "176/176 [==============================] - 0s 564us/step - loss: 0.3634 - accuracy: 0.8297\n",
      "Epoch 148/150\n",
      "176/176 [==============================] - 0s 569us/step - loss: 0.3630 - accuracy: 0.8293\n",
      "Epoch 149/150\n",
      "176/176 [==============================] - 0s 548us/step - loss: 0.3618 - accuracy: 0.8292\n",
      "Epoch 150/150\n",
      "176/176 [==============================] - 0s 530us/step - loss: 0.3618 - accuracy: 0.8306\n"
     ]
    },
    {
     "data": {
      "text/plain": [
       "<keras.callbacks.History at 0x201a60d0ee0>"
      ]
     },
     "execution_count": 169,
     "metadata": {},
     "output_type": "execute_result"
    }
   ],
   "source": [
    "X_train = np.asarray(X_train).astype(np.float32)\n",
    "Y_train = np.asarray(Y_train).astype(np.float32) \n",
    "X_test = np.asarray(X_test).astype(np.float32)\n",
    "Y_test = np.asarray(Y_test).astype(np.float32)\n",
    "\n",
    "#keep eveyrthing into float -- error caused solved\n",
    "\n",
    "\n",
    "model.compile(optimizer=\"adam\",\n",
    "             loss='binary_crossentropy',   #output is binary\n",
    "             metrics=['accuracy'])\n",
    "\n",
    "#fir the model to the data\n",
    "model.fit(X_train, Y_train, epochs=150)"
   ]
  },
  {
   "cell_type": "code",
   "execution_count": 170,
   "id": "5e2e4e3c",
   "metadata": {},
   "outputs": [
    {
     "name": "stdout",
     "output_type": "stream",
     "text": [
      "44/44 [==============================] - 0s 522us/step - loss: 0.4730 - accuracy: 0.7726\n"
     ]
    },
    {
     "data": {
      "text/plain": [
       "[0.47303062677383423, 0.7725657224655151]"
      ]
     },
     "execution_count": 170,
     "metadata": {},
     "output_type": "execute_result"
    }
   ],
   "source": [
    "model.evaluate(X_test, Y_test)"
   ]
  },
  {
   "cell_type": "code",
   "execution_count": 184,
   "id": "3ed283fb",
   "metadata": {},
   "outputs": [
    {
     "name": "stdout",
     "output_type": "stream",
     "text": [
      "44/44 [==============================] - 0s 442us/step\n",
      "44/44 [==============================] - 0s 465us/step\n"
     ]
    },
    {
     "data": {
      "text/plain": [
       "array([[0],\n",
       "       [1],\n",
       "       [0],\n",
       "       [1],\n",
       "       [0],\n",
       "       [1],\n",
       "       [0],\n",
       "       [0],\n",
       "       [0],\n",
       "       [0]])"
      ]
     },
     "execution_count": 184,
     "metadata": {},
     "output_type": "execute_result"
    }
   ],
   "source": [
    "yp = model.predict(X_test)\n",
    "\n",
    "yp = (model.predict(X_test) > 0.5)*1    #convert into 0 and 1\n",
    "\n",
    "\n",
    "yp[:10]"
   ]
  },
  {
   "cell_type": "code",
   "execution_count": 185,
   "id": "d3eb8d95",
   "metadata": {},
   "outputs": [
    {
     "data": {
      "text/plain": [
       "array([0, 0, 1, 1, 1, 1, 0, 0, 0, 0])"
      ]
     },
     "execution_count": 185,
     "metadata": {},
     "output_type": "execute_result"
    }
   ],
   "source": [
    "\n",
    "Y_test[:10] #checking with ytest values\n"
   ]
  },
  {
   "cell_type": "code",
   "execution_count": 186,
   "id": "f5fb054d",
   "metadata": {},
   "outputs": [
    {
     "name": "stdout",
     "output_type": "stream",
     "text": [
      "              precision    recall  f1-score   support\n",
      "\n",
      "           0       0.81      0.88      0.85       999\n",
      "           1       0.63      0.51      0.57       408\n",
      "\n",
      "    accuracy                           0.77      1407\n",
      "   macro avg       0.72      0.69      0.71      1407\n",
      "weighted avg       0.76      0.77      0.76      1407\n",
      "\n"
     ]
    }
   ],
   "source": [
    "#confusion matrix\n",
    "\n",
    "from sklearn.metrics import confusion_matrix, classification_report\n",
    "\n",
    "\n",
    "#report for ytest and ypredicted\n",
    "\n",
    "print(classification_report(Y_test,yp))"
   ]
  },
  {
   "cell_type": "code",
   "execution_count": 198,
   "id": "6fc20df7",
   "metadata": {},
   "outputs": [
    {
     "data": {
      "image/png": "[encoded data removed]",
      "text/plain": [
       "<Figure size 720x504 with 2 Axes>"
      ]
     },
     "metadata": {
      "needs_background": "light"
     },
     "output_type": "display_data"
    }
   ],
   "source": [
    "#confusion matrix\n",
    "\n",
    "import seaborn as sns\n",
    "cm = tf.math.confusion_matrix(labels=Y_test,predictions=yp)\n",
    "\n",
    "plt.figure(figsize=(10,7))\n",
    "sns.heatmap(cm,annot=True, fmt='d');\n",
    "plt.xlabel(\"predicted\")\n",
    "plt.ylabel(\"Truth\");\n"
   ]
  },
  {
   "cell_type": "code",
   "execution_count": null,
   "id": "278aacc5",
   "metadata": {},
   "outputs": [],
   "source": [
    "#accuracy = 77% (f1 score)\n"
   ]
  },
  {
   "cell_type": "code",
   "execution_count": null,
   "id": "19ff9357",
   "metadata": {},
   "outputs": [],
   "source": []
  },
  {
   "cell_type": "code",
   "execution_count": null,
   "id": "929ac8de",
   "metadata": {},
   "outputs": [],
   "source": []
  },
  {
   "cell_type": "code",
   "execution_count": null,
   "id": "aff82424",
   "metadata": {},
   "outputs": [],
   "source": []
  },
  {
   "cell_type": "code",
   "execution_count": null,
   "id": "02631db3",
   "metadata": {},
   "outputs": [],
   "source": []
  },
  {
   "cell_type": "code",
   "execution_count": null,
   "id": "f65c5960",
   "metadata": {},
   "outputs": [],
   "source": []
  },
  {
   "cell_type": "code",
   "execution_count": null,
   "id": "413e9b13",
   "metadata": {},
   "outputs": [],
   "source": [
    "\n",
    "#convert the dataframe into 1 and zero for all the colomns\n",
    "#x train and test will have the independent variables in 80-20% and same for y train and test for dependent variable\n",
    "#use relu activation function for hidden networks (gives 0 for -ve value and same value if +ve)\n",
    "#use sigmoid for last layer to get vaues between 0-1\n",
    "\n",
    "#fit for training data  , evaluate for test data and predict for actual prediction\n",
    "\n",
    "#classification report to check the accuracy\n"
   ]
  },
  {
   "cell_type": "code",
   "execution_count": null,
   "id": "0cc959d7",
   "metadata": {},
   "outputs": [],
   "source": []
  },
  {
   "cell_type": "code",
   "execution_count": null,
   "id": "c6c0d021",
   "metadata": {},
   "outputs": [],
   "source": []
  },
  {
   "cell_type": "code",
   "execution_count": null,
   "id": "a7babbf9",
   "metadata": {},
   "outputs": [],
   "source": []
  },
  {
   "cell_type": "code",
   "execution_count": null,
   "id": "033f66df",
   "metadata": {},
   "outputs": [],
   "source": []
  }
 ],
 "metadata": {
  "kernelspec": {
   "display_name": "Python 3 (ipykernel)",
   "language": "python",
   "name": "python3"
  },
  "language_info": {
   "codemirror_mode": {
    "name": "ipython",
    "version": 3
   },
   "file_extension": ".py",
   "mimetype": "text/x-python",
   "name": "python",
   "nbconvert_exporter": "python",
   "pygments_lexer": "ipython3",
   "version": "3.9.12"
  }
 },
 "nbformat": 4,
 "nbformat_minor": 5
}
